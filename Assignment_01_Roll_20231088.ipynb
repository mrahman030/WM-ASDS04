{
  "cells": [
    {
      "cell_type": "markdown",
      "metadata": {
        "id": "view-in-github",
        "colab_type": "text"
      },
      "source": [
        "<a href=\"https://colab.research.google.com/github/mrahman030/WM-ASDS04/blob/main/Assignment_01_Roll_20231088.ipynb\" target=\"_parent\"><img src=\"https://colab.research.google.com/assets/colab-badge.svg\" alt=\"Open In Colab\"/></a>"
      ]
    },
    {
      "cell_type": "markdown",
      "id": "f8184e87",
      "metadata": {
        "id": "f8184e87"
      },
      "source": [
        "**Course:** WMASDS04-Introduction to Data Science with Python\n",
        "<br>**Instructor:** Farhana Afrin Duty, Department of Statistics, JU\n",
        "## Assignment 01"
      ]
    },
    {
      "cell_type": "markdown",
      "id": "f1bf3786",
      "metadata": {
        "id": "f1bf3786"
      },
      "source": [
        "## Md. Mashiur Rahman\n",
        "**Class Roll:** 20231088 \n",
        "<br>**Section:** B"
      ]
    },
    {
      "cell_type": "markdown",
      "id": "72c0e1b9",
      "metadata": {
        "id": "72c0e1b9"
      },
      "source": [
        "### Python: Variables"
      ]
    },
    {
      "cell_type": "code",
      "execution_count": null,
      "id": "b1c1a5ff",
      "metadata": {
        "id": "b1c1a5ff",
        "outputId": "749c7a57-5941-427b-bca3-b5f4c6c3163b"
      },
      "outputs": [
        {
          "name": "stdout",
          "output_type": "stream",
          "text": [
            "Enter the number:55\n",
            "Data type of x,y,z: <class 'str'> <class 'int'> <class 'float'>\n"
          ]
        }
      ],
      "source": [
        "# a)  Use input( ) function to accept numbers from user as a value of a variable x. \n",
        "x=input(\"Enter the number:\")\n",
        "\n",
        "# b)  Check the data type using type( ) function\n",
        "type(x)\n",
        "\n",
        "# c)  Also convert the data type to integer and assign to the variable y. \n",
        "y=int(x)\n",
        "\n",
        "# d)  Convert the data type into float and assign to the variable z .\n",
        "z=float(y)\n",
        "\n",
        "# e)  display the data type of x, y, and z\n",
        "print(\"Data type of x,y,z:\",type(x),type(y),type(z))"
      ]
    },
    {
      "cell_type": "markdown",
      "id": "edebdaf0",
      "metadata": {
        "id": "edebdaf0"
      },
      "source": [
        "### Strings in Python"
      ]
    },
    {
      "cell_type": "code",
      "execution_count": null,
      "id": "608bae37",
      "metadata": {
        "id": "608bae37",
        "outputId": "b046a3a8-4f8d-4920-d976-c7709c088242"
      },
      "outputs": [
        {
          "name": "stdout",
          "output_type": "stream",
          "text": [
            "Length of a string: 11\n",
            "Number of characters: 11\n",
            "Removed the kth index charecter: Hllo World\n",
            "Removed odd index: HloWrd\n",
            "Enter Student Name:rahim\n",
            "Uppercase String: RAHIM\n",
            "Lowercase String: rahim\n",
            "Sorted String: [' ', 'H', 'W', 'd', 'e', 'l', 'l', 'l', 'o', 'o', 'r']\n",
            "Reverse String: dlroW olleH\n",
            "String converted to the list: ['H', 'e', 'l', 'l', 'o', ' ', 'W', 'o', 'r', 'l', 'd']\n",
            "Type of list characters: <class 'list'>\n"
          ]
        }
      ],
      "source": [
        "# a)  Write a Python program to calculate the length of a string.\n",
        "string=\"Hello World\"\n",
        "length=len(string)\n",
        "print(\"Length of a string:\", length)\n",
        "\n",
        "# b)  Write a Python program to count the number of characters in a string.\n",
        "string=\"Hello World\"\n",
        "counts=0\n",
        "for characters in string:\n",
        "    counts +=1\n",
        "print(\"Number of characters:\",counts)\n",
        "\n",
        "# c)  Write a Python program to remove the kth index character from a string.\n",
        "string=\"Hello World\"\n",
        "k=1\n",
        "x=string[:k]+string[k+1:]\n",
        "print(\"Removed the kth index charecter:\",x)\n",
        "\n",
        "# d)  Write a Python program to remove the characters which have odd index values of a given string.\n",
        "string=\"Hello World\"\n",
        "new_string=\"\"\n",
        "for i in range(len(string)):\n",
        "    if i % 2==0:\n",
        "        new_string+=string[i]\n",
        "print(\"Removed odd index:\",new_string)\n",
        "\n",
        "# e)  Write a Python script that takes input from the user and displays that input back in upper and lower cases.\n",
        "name=input(\"Enter Student Name:\")\n",
        "print(\"Uppercase String:\",name.upper())\n",
        "print(\"Lowercase String:\",name.lower())\n",
        "\n",
        "# f)   Write a Python program to sort a string\n",
        "string = \"Hello World\"\n",
        "sorted_string =sorted(string)\n",
        "print(\"Sorted String:\",sorted_string)\n",
        "\n",
        "# g)  Write a Python program to reverse a string.\n",
        "string = \"Hello World\"\n",
        "reverse_string=string[::-1]\n",
        "print(\"Reverse String:\",reverse_string)\n",
        "\n",
        "# h)  Write a Python program to convert a given string into a list.\n",
        "string = \"Hello World\"\n",
        "list_characters = []\n",
        "for character in string:\n",
        "    list_characters.append(character)\n",
        "\n",
        "print(\"String converted to the list:\", list_characters)\n",
        "print(\"Type of list characters:\",type(list_characters))"
      ]
    },
    {
      "cell_type": "markdown",
      "id": "d8630b9f",
      "metadata": {
        "id": "d8630b9f"
      },
      "source": [
        "### Python: Lists"
      ]
    },
    {
      "cell_type": "code",
      "execution_count": null,
      "id": "bac52adb",
      "metadata": {
        "id": "bac52adb",
        "outputId": "59b418d1-8015-4969-8c5e-6ff366de3bec"
      },
      "outputs": [
        {
          "name": "stdout",
          "output_type": "stream",
          "text": [
            "Sum all the items: 75\n",
            "Largest number: 25\n",
            "Smallest number: 5\n",
            "Numbers after removing even numbers: [5, 15, 25]\n",
            "Selected Odd Numbers: [5, 15, 25]\n",
            "Converted list character: Hello World!\n",
            "index this list: 2\n",
            "Add a List to the second list: ['mango', 'banana', 'apple', 1, 2, 3, 4]\n",
            "unique value; {1, 2, 3, 4, 6}\n",
            "unique value number; 5\n",
            "elements frequency; {1: 1, 2: 3, 4: 2, 3: 1, 6: 1}\n",
            "elements with frequency greater than_K: [2, 4]\n",
            "Reversed string list: ['elppA', 'ananaB', 'ognaM']\n"
          ]
        }
      ],
      "source": [
        "# a)  Write a Python program to sum (or product) all the items in a list\n",
        "my_list=[5,10,15,20,25]\n",
        "sum=0\n",
        "for items in my_list:\n",
        "    sum +=items\n",
        "print(\"Sum all the items:\",sum)\n",
        "\n",
        "# b)  Write a Python program to get the largest/smallest  number from a list\n",
        "my_list=[5,10,15,20,25]\n",
        "largest=max(my_list)\n",
        "smallest=min(my_list)\n",
        "print(\"Largest number:\",largest)\n",
        "print(\"Smallest number:\",smallest)\n",
        "\n",
        "# c)  Write a Python program to print the numbers of a specified list after removing even numbers from it\n",
        "my_list=[5,10,15,20,25]\n",
        "odd_number=[]\n",
        "for number in my_list:\n",
        "    if number % 2 !=0:\n",
        "        odd_number.append(number)\n",
        "print(\"Numbers after removing even numbers:\",odd_number)\n",
        "\n",
        "# d)  Write a Python program to select the odd number of a list\n",
        "my_list=[5,10,15,20,25]\n",
        "odd_number=[]\n",
        "for number in my_list:\n",
        "    if number % 2==1:\n",
        "        odd_number.append(number)\n",
        "print(\"Selected Odd Numbers:\",odd_number)\n",
        "\n",
        "# e)  Write a Python program to convert a list of characters into a string\n",
        "my_list = [\"H\", \"e\", \"l\", \"l\", \"o\", \" \", \"W\", \"o\", \"r\", \"l\", \"d\", \"!\"]\n",
        "string=\"\".join(my_list)\n",
        "print(\"Converted list character:\",string)\n",
        "\n",
        "# f)   Write a Python program to find the index of an item in a specified list \n",
        "my_list=[\"apple\", \"banana\", \"mango\",\"coconut\",\"Lichu\"]\n",
        "index_this_list=my_list.index(\"mango\")\n",
        "print(\"index this list:\",index_this_list)\n",
        "\n",
        "# g)  Write a Python program to add a list to the second list\n",
        "list1=[\"mango\",\"banana\",\"apple\"]\n",
        "list2=[1,2,3,4]\n",
        "list1.extend(list2)\n",
        "print(\"Add a List to the second list:\",list1)\n",
        "\n",
        "# h)  Write a Python program to get unique values from a list and to count unique values inside a list. Also get the frequency of the elements in the list.\n",
        "my_list=[1,2,4,2,3,6,4,2]\n",
        "unique_value=set(my_list)\n",
        "count_uv=len(unique_value)\n",
        "frequency_elements={}\n",
        "for elements in my_list:\n",
        "    frequency_elements[elements]=my_list.count(elements)\n",
        "print(\"unique value;\", unique_value)\n",
        "print(\"unique value number;\", count_uv)\n",
        "print(\"elements frequency;\", frequency_elements)\n",
        "\n",
        "# i)   Write a Python Program to Extract elements with Frequency greater than K\n",
        "K=1\n",
        "elements_greater_K = []\n",
        "for elements, frequency in frequency_elements.items():\n",
        "    if frequency > K:\n",
        "        elements_greater_K.append(elements)\n",
        "print(\"elements with frequency greater than_K:\", elements_greater_K)\n",
        "\n",
        "# j)   Write a Python program to reverse All Strings in String List\n",
        "string_list=[\"Apple\", \"Banana\", \"Mango\"]\n",
        "reversed_string=[]\n",
        "for string in string_list:\n",
        "    reversed_string.append(string[::-1])\n",
        "print(\"Reversed string list:\", reversed_string)\n"
      ]
    },
    {
      "cell_type": "markdown",
      "id": "aa1bdacb",
      "metadata": {
        "id": "aa1bdacb"
      },
      "source": [
        "### Python : Dictionary"
      ]
    },
    {
      "cell_type": "code",
      "execution_count": null,
      "id": "021ce4d9",
      "metadata": {
        "id": "021ce4d9",
        "outputId": "eb4c9f46-7786-4b0f-f693-c69950f0b42a"
      },
      "outputs": [
        {
          "name": "stdout",
          "output_type": "stream",
          "text": [
            "Display of fruit dictionary: {'names': ['Mango', 'Lemon'], 'color': ['yellow', 'green'], 'taste': ['sweet', 'sour']}\n",
            "Add a new value in Key names: {'names': ['Mango', 'Lemon', 'apple'], 'color': ['yellow', 'green'], 'taste': ['sweet', 'sour']}\n",
            "New key added {'names': ['Mango', 'Lemon'], 'color': ['yellow', 'green'], 'taste': ['sweet', 'sour'], 'price': [30, 40]}\n",
            "The key 'color' exists in the dictionary.\n",
            "Key element: Lemon\n",
            "names : ['Mango', 'Lemon']\n",
            "color : ['yellow', 'green']\n",
            "taste : ['sweet', 'sour']\n",
            "Enter a number: 5\n",
            "{1: 1, 2: 4, 3: 9, 4: 16, 5: 25}\n",
            "{'names': None, 'color': None, 'taste': None}\n",
            "{'color': ['yellow', 'green'], 'taste': ['sweet', 'sour'], 'fruit_name': ['Mango', 'Lemon']}\n",
            "names\n",
            "color\n",
            "taste\n",
            "dict_values([['Mango', 'Lemon'], ['yellow', 'green'], ['sweet', 'sour']])\n"
          ]
        }
      ],
      "source": [
        "# a)  Write a Python script to create a dictionary \n",
        "# (i) Create a dictionary named fruit with keys:(names, color, taste). add Mango and Lemon as the value of key- names, yellow and green as the value of color, sweet and sour as the value of taste. \n",
        "fruit={\n",
        "    \"names\":[\"Mango\",\"Lemon\"],\n",
        "    \"color\":[\"yellow\",\"green\"],\n",
        "    \"taste\":[\"sweet\", \"sour\"]\n",
        "}\n",
        "# (ii) display the dictionary.\n",
        "print(\"Display of fruit dictionary:\",fruit)\n",
        "\n",
        "# (iii) add a new value,  Apple in the names\n",
        "fruit[\"names\"].append(\"apple\")\n",
        "print(\"Add a new value in Key names:\",fruit)\n",
        "\n",
        "# b)  Write a Python program to add a key to a dictionary\n",
        "fruit={\n",
        "    \"names\":[\"Mango\",\"Lemon\"],\n",
        "    \"color\":[\"yellow\",\"green\"],\n",
        "    \"taste\":[\"sweet\", \"sour\"]\n",
        "}\n",
        "fruit[\"price\"]=[30,40]\n",
        "print(\"New key added\",fruit)\n",
        "\n",
        "# c)  Write a Python program to check whether a given key already exists in a dictionary. \n",
        "fruit={\n",
        "    \"names\":[\"Mango\",\"Lemon\"],\n",
        "    \"color\":[\"yellow\",\"green\"],\n",
        "    \"taste\":[\"sweet\", \"sour\"]\n",
        "}\n",
        "\n",
        "if \"color\" in fruit:\n",
        "    print(\"The key 'color' exists in the dictionary.\")\n",
        "else:\n",
        "    print(\"The key 'color' does not exists in the dictionary.\")\n",
        "    \n",
        "# d)  Access dictionary key’s element by index.\n",
        "fruit={\n",
        "    \"names\":[\"Mango\",\"Lemon\"],\n",
        "    \"color\":[\"yellow\",\"green\"],\n",
        "    \"taste\":[\"sweet\", \"sour\"]\n",
        "}\n",
        "name=fruit[\"names\"][1]\n",
        "print(\"Key element:\",name)\n",
        "\n",
        "# e)  Write a Python program to iterate over dictionaries using for loops.\n",
        "fruit={\n",
        "    \"names\":[\"Mango\",\"Lemon\"],\n",
        "    \"color\":[\"yellow\",\"green\"],\n",
        "    \"taste\":[\"sweet\", \"sour\"]\n",
        "}\n",
        "\n",
        "for key, value in fruit.items():\n",
        "    print(key,\":\",value)\n",
        "    \n",
        "# f) Write a Python script to print a dictionary where the keys are numbers between 1 and n (both included) and the values are square of keys.\n",
        "n = int(input(\"Enter a number: \"))\n",
        "squares = {}\n",
        "for i in range(1, n + 1):\n",
        "    squares[i] = i ** 2\n",
        "print(squares)\n",
        "\n",
        "# g)  Create a dictionary by extracting the keys from a given dictionary \n",
        "fruit = {\n",
        "    \"names\": [\"Mango\", \"Lemon\"],\n",
        "    \"color\": [\"yellow\", \"green\"],\n",
        "    \"taste\": [\"sweet\", \"sour\"]\n",
        "}\n",
        "keys = {}\n",
        "for key in fruit.keys():\n",
        "    keys[key] = None\n",
        "print(keys)\n",
        "\n",
        "# h)  Write a Python program to Rename key of a dictionary\n",
        "fruit = {\n",
        "    \"names\": [\"Mango\", \"Lemon\"],\n",
        "    \"color\": [\"yellow\", \"green\"],\n",
        "    \"taste\": [\"sweet\", \"sour\"]\n",
        "}\n",
        "fruit[\"fruit_name\"]=fruit.pop(\"names\")\n",
        "print(fruit)\n",
        "\n",
        "# i)   Write a program to print only keys of a dictionary\n",
        "fruit = {\n",
        "    \"names\": [\"Mango\", \"Lemon\"],\n",
        "    \"color\": [\"yellow\", \"green\"],\n",
        "    \"taste\": [\"sweet\", \"sour\"]\n",
        "}\n",
        "for key in fruit.keys():\n",
        "    print(key)\n",
        "\n",
        "# j)   Write a program to print values of dictionary.\n",
        "fruit = {\n",
        "    \"names\": [\"Mango\", \"Lemon\"],\n",
        "    \"color\": [\"yellow\", \"green\"],\n",
        "    \"taste\": [\"sweet\", \"sour\"]\n",
        "}\n",
        "values = fruit.values()\n",
        "print(values)\n"
      ]
    },
    {
      "cell_type": "markdown",
      "id": "a9b79422",
      "metadata": {
        "id": "a9b79422"
      },
      "source": [
        "## Python: Loops"
      ]
    },
    {
      "cell_type": "code",
      "execution_count": null,
      "id": "749100dd",
      "metadata": {
        "id": "749100dd",
        "outputId": "d87db86b-e0d4-4813-cc0b-c37cec9ed6a7"
      },
      "outputs": [
        {
          "name": "stdout",
          "output_type": "stream",
          "text": [
            "1\n",
            "2\n",
            "3\n",
            "4\n",
            "5\n",
            "6\n",
            "7\n",
            "8\n",
            "9\n",
            "10\n",
            "5 x 1 = 5\n",
            "5 x 2 = 10\n",
            "5 x 3 = 15\n",
            "5 x 4 = 20\n",
            "5 x 5 = 25\n",
            "5 x 6 = 30\n",
            "5 x 7 = 35\n",
            "5 x 8 = 40\n",
            "5 x 9 = 45\n",
            "5 x 10 = 50\n",
            "1\n",
            "2\n",
            "3\n",
            "4\n",
            "5\n",
            "5\n",
            "4\n",
            "3\n",
            "2\n",
            "1\n",
            "-10\n",
            "-9\n",
            "-8\n",
            "-7\n",
            "-6\n",
            "-5\n",
            "-4\n",
            "-3\n",
            "-2\n",
            "-1\n",
            "The factorial of 5 is 120\n",
            "1\n",
            "3\n",
            "5\n",
            "The cubes of the numbers from 1 to 5 are [1, 8, 27, 64, 125]\n"
          ]
        }
      ],
      "source": [
        "# a)  Print First 10 natural numbers using while loop\n",
        "i = 1\n",
        "while i <= 10:\n",
        "    print(i)\n",
        "    i += 1\n",
        "\n",
        "# b)  Write a program to print multiplication table of a given number \n",
        "number = int(5)\n",
        "for i in range(1, 11):\n",
        "    print(f\"{number} x {i} = {number * i}\")\n",
        "\n",
        "# c)  Display numbers from a list using loop\n",
        "numbers = [1, 2, 3, 4, 5]\n",
        "for number in numbers:\n",
        "    print(number)\n",
        "\n",
        "# d)  Print list in reverse order using a loop\n",
        "numbers = [1, 2, 3, 4, 5]\n",
        "for i in range(len(numbers) - 1, -1, -1):\n",
        "    print(numbers[i])\n",
        "\n",
        "# e)  Display numbers from -10 to -1 using for loop \n",
        "for i in range(-10, 0):\n",
        "    print(i)\n",
        "\n",
        "# f)   Find the factorial of a given number\n",
        "number = int(5)\n",
        "factorial = 1\n",
        "for i in range(1, number + 1):\n",
        "    factorial *= i\n",
        "print(\"The factorial of {} is {}\".format(number, factorial))\n",
        "\n",
        "# g)  Use a loop to display elements from a given list present at odd index positions \n",
        "numbers = [1, 2, 3, 4, 5]\n",
        "for i in range(0, len(numbers), 2):\n",
        "    print(numbers[i])\n",
        "    \n",
        "# h)  Calculate the cube of all numbers from 1 to a given number\n",
        "\n",
        "number = int(5)\n",
        "cubes = []\n",
        "for i in range(1, number + 1):\n",
        "    cube = i ** 3\n",
        "    cubes.append(cube)\n",
        "print(\"The cubes of the numbers from 1 to {} are {}\".format(number, cubes))"
      ]
    },
    {
      "cell_type": "markdown",
      "id": "58a6db25",
      "metadata": {
        "id": "58a6db25"
      },
      "source": [
        "## Python: User-defined Functions"
      ]
    },
    {
      "cell_type": "code",
      "execution_count": null,
      "id": "7572a007",
      "metadata": {
        "id": "7572a007",
        "outputId": "1c8a76b7-a99f-427a-f4b9-e819bfd7d02c"
      },
      "outputs": [
        {
          "name": "stdout",
          "output_type": "stream",
          "text": [
            "Unique digits in class ID: {'9', '8', '6', '5', '3', '2', '7', '1', '0', '4'}\n"
          ]
        }
      ],
      "source": [
        "# a)  write a python program to create a function that will return a list of the unique digits in your class ID.\n",
        "\n",
        "def unique_digits_in_class_id(class_id):\n",
        "    class_id_str = str(class_id)\n",
        "    return set(character for character in class_id_str if character.isdigit())\n",
        "\n",
        "my_class_id = 1234567890\n",
        "unique_digits = unique_digits_in_class_id(my_class_id)\n",
        "print(\"Unique digits in class ID:\", unique_digits)"
      ]
    },
    {
      "cell_type": "code",
      "execution_count": null,
      "id": "3730cabb",
      "metadata": {
        "id": "3730cabb"
      },
      "outputs": [],
      "source": []
    }
  ],
  "metadata": {
    "kernelspec": {
      "display_name": "Python 3 (ipykernel)",
      "language": "python",
      "name": "python3"
    },
    "language_info": {
      "codemirror_mode": {
        "name": "ipython",
        "version": 3
      },
      "file_extension": ".py",
      "mimetype": "text/x-python",
      "name": "python",
      "nbconvert_exporter": "python",
      "pygments_lexer": "ipython3",
      "version": "3.10.9"
    },
    "colab": {
      "provenance": [],
      "include_colab_link": true
    }
  },
  "nbformat": 4,
  "nbformat_minor": 5
}