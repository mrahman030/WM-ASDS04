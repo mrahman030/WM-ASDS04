{
  "cells": [
    {
      "cell_type": "markdown",
      "metadata": {
        "id": "view-in-github",
        "colab_type": "text"
      },
      "source": [
        "<a href=\"https://colab.research.google.com/github/mrahman030/WM-ASDS04/blob/main/Assignment_01Roll20231088.ipynb\" target=\"_parent\"><img src=\"https://colab.research.google.com/assets/colab-badge.svg\" alt=\"Open In Colab\"/></a>"
      ]
    },
    {
      "cell_type": "markdown",
      "id": "dc3cf5d4",
      "metadata": {
        "id": "dc3cf5d4"
      },
      "source": [
        "# Assignment 01"
      ]
    },
    {
      "cell_type": "markdown",
      "id": "bb964922",
      "metadata": {
        "id": "bb964922"
      },
      "source": [
        "## Name: Md. Mashiur Rahman\n",
        "### Class Roll: 20231088 Section: B"
      ]
    },
    {
      "cell_type": "markdown",
      "id": "98f020a0",
      "metadata": {
        "id": "98f020a0"
      },
      "source": [
        "## Python: Variables"
      ]
    },
    {
      "cell_type": "code",
      "execution_count": null,
      "id": "1d853c34",
      "metadata": {
        "id": "1d853c34",
        "outputId": "03644bdc-9df9-4cca-b469-6312731d56f5"
      },
      "outputs": [
        {
          "name": "stdout",
          "output_type": "stream",
          "text": [
            "Enter age of Household Head: 22\n",
            "The data type of x is: <class 'str'>\n",
            "The data type of x, y & z is: <class 'str'> <class 'int'> <class 'float'>\n"
          ]
        }
      ],
      "source": [
        "# a) Use input( ) function to accept numbers from user as a value of a variable x. \n",
        "x=input(\"Enter age of Household Head: \")\n",
        "# b) Check the data type using type( ) function.\n",
        "print(\"The data type of x is:\",type(x))\n",
        "# C) Also convert the data type to integer and assign to the variable y.\n",
        "y=int(x)\n",
        "# d) Convert the data type into float and assign to the variable z .\n",
        "z=float(y)\n",
        "# e) display the data type of x, y, and z\n",
        "print(\"The data type of x, y & z is:\",type(x), type(y), type(z))"
      ]
    },
    {
      "cell_type": "markdown",
      "id": "5a5c41e2",
      "metadata": {
        "id": "5a5c41e2"
      },
      "source": [
        "## Strings in Python"
      ]
    },
    {
      "cell_type": "code",
      "execution_count": null,
      "id": "af13819a",
      "metadata": {
        "id": "af13819a",
        "outputId": "ada1b1d7-61be-4776-abfe-8c67d8e3960f"
      },
      "outputs": [
        {
          "name": "stdout",
          "output_type": "stream",
          "text": [
            "Length of a string: 11\n",
            "Number of a string: 11\n",
            "Removed kth character: Hllo, World!\n",
            "Removed odd index: HloWrd\n",
            "Entar the Household Head Name: 22\n",
            "Uppercase string: 22\n",
            "Lowercase string: 22\n",
            "Sorted String:  ,HWdellloor\n",
            "Reversed String: dlroW ,olleH\n",
            "String converted to the list: ['H', 'e', 'l', 'l', 'o', ',', ' ', 'w', 'o', 'r', 'l', 'd', '!']\n"
          ]
        }
      ],
      "source": [
        "# a)  Write a Python program to calculate the length of a string.\n",
        "string=\"Hello World\"\n",
        "length=len(string)\n",
        "print(\"Length of a string:\", length)\n",
        "\n",
        "# b)  Write a Python program to count the number of characters in a string.\n",
        "string=\"Hello World\"\n",
        "count=0\n",
        "for characters in string:\n",
        "    count+=1\n",
        "print(\"Number of a string:\", count)\n",
        "\n",
        "# c) Write a Python program to remove the kth index character from a string.\n",
        "string = \"Hello, World!\"\n",
        "k = 1\n",
        "first_part = string[:k]\n",
        "last_part = string[k+1:]\n",
        "new_string= first_part+last_part\n",
        "print(\"Removed kth character:\", new_string)\n",
        "\n",
        "# d) Write a Python program to remove the characters which have odd index values of a given string.\n",
        "string=\"Hello World\"\n",
        "new_string=\"\"\n",
        "for i in range(len(string)):\n",
        "    if i % 2 ==0:\n",
        "        new_string+=string[i]\n",
        "print(\"Removed odd index:\", new_string)\n",
        "\n",
        "# e) Write a Python script that takes input from the user and displays that input back in upper and lower cases\n",
        "user_input = input(\"Entar the Household Head Name: \")\n",
        "print(\"Uppercase string:\", user_input.upper())\n",
        "print(\"Lowercase string:\", user_input.lower())\n",
        "\n",
        "# f)   Write a Python program to sort a string\n",
        "string = \"Hello, World\"\n",
        "sorted_string =''.join (sorted(string))\n",
        "print(\"Sorted String:\", sorted_string)\n",
        "\n",
        "# g)  Write a Python program to reverse a string.\n",
        "string = \"Hello, World\"\n",
        "reversed_string=string[::-1]\n",
        "print(\"Reversed String:\", reversed_string)\n",
        "\n",
        "# h)  Write a Python program to convert a given string into a list.\n",
        "\n",
        "string = \"Hello, world!\"\n",
        "\n",
        "list_of_characters = []\n",
        "for character in string:\n",
        "    list_of_characters.append(character)\n",
        "\n",
        "print(\"String converted to the list:\", list_of_characters)\n"
      ]
    },
    {
      "cell_type": "markdown",
      "id": "bf0b9551",
      "metadata": {
        "id": "bf0b9551"
      },
      "source": [
        "## Python: Lists"
      ]
    },
    {
      "cell_type": "code",
      "execution_count": null,
      "id": "97791f45",
      "metadata": {
        "id": "97791f45",
        "outputId": "d944f28d-06d0-42e7-fba7-c647e1ac9fe7"
      },
      "outputs": [
        {
          "name": "stdout",
          "output_type": "stream",
          "text": [
            "The sum of the list is: 75\n",
            "Largest Number: 25\n",
            "Smallest Number: 5\n",
            "Numbers after removing even numbers: [5, 15, 25]\n",
            "Selected odd numbers: [1, 3, 5, 7, 9]\n",
            "converted String: Hello World!\n",
            "Index of list: 2\n",
            "Add a List to the second list: [1, 2, 3, 4, 5, 6, 7, 8, 9]\n",
            "unique_value: {1, 2, 3, 4, 5, 6}\n",
            "number of unique_value: 6\n",
            "frequency of elements: {1: 2, 2: 3, 3: 1, 4: 1, 5: 1, 6: 1}\n",
            "elements with frequency greater than_K: [1, 2]\n",
            "Reversed string list: ['elppA', 'ananaB', 'ognaM']\n"
          ]
        }
      ],
      "source": [
        "# a)  Write a Python program to sum (or product) all the items in a list\n",
        "list = [5,10,15,20,25]\n",
        "sum=0\n",
        "for item in list:\n",
        "    sum += item\n",
        "print (\"The sum of the list is:\", sum)\n",
        "\n",
        "# b) Write a Python program to get the largest/smallest number from a list\n",
        "list = [5,10,15,20,25]\n",
        "largest=max(list)\n",
        "smallest=min(list)\n",
        "print(\"Largest Number:\", largest)\n",
        "print(\"Smallest Number:\", smallest)\n",
        "\n",
        "# c) Write a Python program to print the numbers of a specified list after removing even numbers from it\n",
        "list = [5,10,15,20,25]\n",
        "odd_numbers=[]\n",
        "for number in list:\n",
        "    if number % 2 !=0:\n",
        "        odd_numbers.append(number)\n",
        "print(\"Numbers after removing even numbers:\", odd_numbers)\n",
        "\n",
        "# d)  Write a Python program to select the odd number of a list\n",
        "list = [1,2,3,4,5,6,7,8,9]\n",
        "odd_numbers=[]\n",
        "for number in list:\n",
        "    if number % 2 !=0:\n",
        "        odd_numbers.append(number)\n",
        "print(\"Selected odd numbers:\", odd_numbers)\n",
        "\n",
        "# e)  Write a Python program to convert a list of characters into a string\n",
        "list = [\"H\", \"e\", \"l\", \"l\", \"o\", \" \", \"W\", \"o\", \"r\", \"l\", \"d\", \"!\"]\n",
        "string=''.join(list)\n",
        "print(\"converted String:\", string)\n",
        "\n",
        "# f)   Write a Python program to find the index of an item in a specified list\n",
        "list= [1,2,3,4,5,6,7,8,9]\n",
        "index=list.index(3)\n",
        "print(\"Index of list:\", index)\n",
        "\n",
        "# g)  Write a Python program to add a list to the second list\n",
        "list1=[1,2,3,4,5]\n",
        "list2=[6,7,8,9]\n",
        "list1.extend(list2)\n",
        "print(\"Add a List to the second list:\",list1)\n",
        "\n",
        "# h)  Write a Python program to get unique values from a list and to count unique values inside a list. Also get the frequency of the elements in the list\n",
        "list=[1,2,3,4,1,2,5,2,6]\n",
        "unique_value=set(list)\n",
        "number_of_unique_value=len(unique_value)\n",
        "frequency_of_elements={}\n",
        "for elements in list:\n",
        "    frequency_of_elements[elements]=list.count(elements)\n",
        "\n",
        "print(\"unique_value:\", unique_value)\n",
        "print(\"number of unique_value:\", number_of_unique_value)\n",
        "print(\"frequency of elements:\", frequency_of_elements)\n",
        "\n",
        "# i)   Write a Python Program to Extract elements with Frequency greater than K\n",
        "\n",
        "list=[1,2,3,4,1,2,5,2,6]\n",
        "\n",
        "frequency_of_elements = {}\n",
        "for element in list:\n",
        "    frequency_of_elements[element] = list.count(element)\n",
        "K=1\n",
        "\n",
        "elements_with_frequency_greater_than_K = []\n",
        "for element, frequency in frequency_of_elements.items():\n",
        "    if frequency > K:\n",
        "        elements_with_frequency_greater_than_K.append(element)\n",
        "print(\"elements with frequency greater than_K:\", elements_with_frequency_greater_than_K)\n",
        "\n",
        "# j)   Write a Python program to reverse All Strings in String List\n",
        "string_list=[\"Apple\", \"Banana\", \"Mango\"]\n",
        "reversed_string_list=[]\n",
        "for string in string_list:\n",
        "    reversed_string_list.append(string[::-1])\n",
        "print(\"Reversed string list:\", reversed_string_list)"
      ]
    },
    {
      "cell_type": "markdown",
      "id": "5ea9859f",
      "metadata": {
        "id": "5ea9859f"
      },
      "source": [
        "## Python : Dictionary"
      ]
    },
    {
      "cell_type": "code",
      "execution_count": null,
      "id": "c9ede939",
      "metadata": {
        "id": "c9ede939",
        "outputId": "dd8f9bb9-4958-4daa-9b78-650ce89a5751"
      },
      "outputs": [
        {
          "name": "stdout",
          "output_type": "stream",
          "text": [
            "fruit: {'names': ['mango', 'lemon'], 'color': ['yellow', 'green'], 'taste': ['sweet', 'sour']}\n",
            "update fruit: {'names': ['mango', 'lemon', 'apple'], 'color': ['yellow', 'green'], 'taste': ['sweet', 'sour']}\n",
            "New key added {'names': ['mango', 'lemon'], 'price': [50, 20]}\n",
            "The key 'names' exists in the dictionary.\n",
            "Key element: Lemon\n",
            "names : ['Mango', 'Lemon']\n",
            "color : ['yellow', 'green']\n",
            "taste : ['sweet', 'sour']\n",
            "Enter a number: 22\n",
            "{1: 1, 2: 4, 3: 9, 4: 16, 5: 25, 6: 36, 7: 49, 8: 64, 9: 81, 10: 100, 11: 121, 12: 144, 13: 169, 14: 196, 15: 225, 16: 256, 17: 289, 18: 324, 19: 361, 20: 400, 21: 441, 22: 484}\n",
            "{'names': None, 'color': None, 'taste': None}\n",
            "{'color': ['yellow', 'green'], 'taste': ['sweet', 'sour'], 'fruit_name': ['Mango', 'Lemon']}\n",
            "names\n",
            "color\n",
            "taste\n",
            "dict_values([['Mango', 'Lemon'], ['yellow', 'green'], ['sweet', 'sour']])\n"
          ]
        }
      ],
      "source": [
        "# a)  Write a Python script to create a dictionary \n",
        "    #(i) Create a dictionary named fruit with keys:(names, color, taste). add Mango and Lemon as the value of key- names, yellow and green as the value of color, sweet and sour as the value of taste.\n",
        "fruit={\n",
        "    \"names\": [\"mango\", \"lemon\"],\n",
        "    \"color\": [\"yellow\", \"green\"],\n",
        "    \"taste\":[\"sweet\",\"sour\"]\n",
        "}\n",
        " #(ii) display the dictionary. \n",
        "print(\"fruit:\",fruit)\n",
        " #(iii) add a new value,  Apple in the names\n",
        "fruit[\"names\"].append(\"apple\")\n",
        "print(\"update fruit:\",fruit)\n",
        "\n",
        "# b)  Write a Python program to add a key to a dictionary\n",
        "fruit={\n",
        "    \"names\": [\"mango\", \"lemon\"],\n",
        "}\n",
        "fruit[\"price\"]=[50 , 20]\n",
        "print(\"New key added\",fruit)\n",
        "\n",
        "#c)  Write a Python program to check whether a given key already exists in a dictionary. \n",
        "fruit = {\n",
        "    \"names\": [\"Mango\", \"Lemon\"],\n",
        "    \"color\": [\"yellow\", \"green\"],\n",
        "    \"taste\": [\"sweet\", \"sour\"]\n",
        "}\n",
        "if \"names\" in fruit:\n",
        "    print(\"The key 'names' exists in the dictionary.\")\n",
        "else:\n",
        "    print(\"The key 'names' does not exist in the dictionary.\")\n",
        "\n",
        "#d)  Access dictionary key’s element by index.\n",
        "name = fruit[\"names\"][1]\n",
        "print(\"Key element:\",name)\n",
        "\n",
        "# e)  Write a Python program to iterate over dictionaries using for loops.\n",
        "fruit = {\n",
        "    \"names\": [\"Mango\", \"Lemon\"],\n",
        "    \"color\": [\"yellow\", \"green\"],\n",
        "    \"taste\": [\"sweet\", \"sour\"]\n",
        "}\n",
        "for key, value in fruit.items():\n",
        "    print(key, \":\", value)\n",
        "\n",
        "    \n",
        "#f)\tWrite a Python script to print a dictionary where the keys are numbers between 1 and n (both included) and the values are square of keys.\n",
        "n = int(input(\"Enter a number: \"))\n",
        "squares = {}\n",
        "for i in range(1, n + 1):\n",
        "    squares[i] = i ** 2\n",
        "print(squares)\n",
        "\n",
        "# g)  Create a dictionary by extracting the keys from a given dictionary \n",
        "fruit = {\n",
        "    \"names\": [\"Mango\", \"Lemon\"],\n",
        "    \"color\": [\"yellow\", \"green\"],\n",
        "    \"taste\": [\"sweet\", \"sour\"]\n",
        "}\n",
        "\n",
        "keys = {}\n",
        "\n",
        "for key in fruit.keys():\n",
        "\n",
        "    keys[key] = None\n",
        "\n",
        "# Print the new dictionary\n",
        "print(keys)\n",
        "\n",
        "# h)  Write a Python program to Rename key of a dictionary\n",
        "fruit = {\n",
        "    \"names\": [\"Mango\", \"Lemon\"],\n",
        "    \"color\": [\"yellow\", \"green\"],\n",
        "    \"taste\": [\"sweet\", \"sour\"]\n",
        "}\n",
        "fruit[\"fruit_name\"]=fruit.pop(\"names\")\n",
        "print(fruit)\n",
        "\n",
        "# i)   Write a program to print only keys of a dictionary\n",
        "fruit = {\n",
        "    \"names\": [\"Mango\", \"Lemon\"],\n",
        "    \"color\": [\"yellow\", \"green\"],\n",
        "    \"taste\": [\"sweet\", \"sour\"]\n",
        "}\n",
        "\n",
        "for key in fruit.keys():\n",
        "    print(key)\n",
        "# j)   Write a program to print values of dictionary.\n",
        "fruit = {\n",
        "    \"names\": [\"Mango\", \"Lemon\"],\n",
        "    \"color\": [\"yellow\", \"green\"],\n",
        "    \"taste\": [\"sweet\", \"sour\"]\n",
        "}\n",
        "values = fruit.values()\n",
        "print(values)\n"
      ]
    },
    {
      "cell_type": "markdown",
      "id": "5dadfade",
      "metadata": {
        "id": "5dadfade"
      },
      "source": [
        "## Python: Loops"
      ]
    },
    {
      "cell_type": "code",
      "execution_count": null,
      "id": "c0dc2fa7",
      "metadata": {
        "id": "c0dc2fa7",
        "outputId": "d3b261e4-55ad-4b0a-b794-d6c70fa02d9c"
      },
      "outputs": [
        {
          "name": "stdout",
          "output_type": "stream",
          "text": [
            "1\n",
            "2\n",
            "3\n",
            "4\n",
            "5\n",
            "6\n",
            "7\n",
            "8\n",
            "9\n",
            "10\n",
            "5 x 1 = 5\n",
            "5 x 2 = 10\n",
            "5 x 3 = 15\n",
            "5 x 4 = 20\n",
            "5 x 5 = 25\n",
            "5 x 6 = 30\n",
            "5 x 7 = 35\n",
            "5 x 8 = 40\n",
            "5 x 9 = 45\n",
            "5 x 10 = 50\n",
            "1\n",
            "2\n",
            "3\n",
            "4\n",
            "5\n",
            "5\n",
            "4\n",
            "3\n",
            "2\n",
            "1\n",
            "-10\n",
            "-9\n",
            "-8\n",
            "-7\n",
            "-6\n",
            "-5\n",
            "-4\n",
            "-3\n",
            "-2\n",
            "-1\n",
            "The factorial of 5 is 120\n",
            "1\n",
            "3\n",
            "5\n",
            "The cubes of the numbers from 1 to 5 are [1, 8, 27, 64, 125]\n"
          ]
        }
      ],
      "source": [
        "# a)  Print First 10 natural numbers using while loop\n",
        "\n",
        "i = 1\n",
        "while i <= 10:\n",
        "    print(i)\n",
        "    i += 1\n",
        "\n",
        "# b)  Write a program to print multiplication table of a given number \n",
        "\n",
        "number = int(5)\n",
        "\n",
        "for i in range(1, 11):\n",
        "    print(f\"{number} x {i} = {number * i}\")\n",
        "\n",
        "# c)  Display numbers from a list using loop\n",
        "\n",
        "numbers = [1, 2, 3, 4, 5]\n",
        "\n",
        "for number in numbers:\n",
        "    print(number)\n",
        "\n",
        "# d)  Print list in reverse order using a loop\n",
        "\n",
        "numbers = [1, 2, 3, 4, 5]\n",
        "\n",
        "for i in range(len(numbers) - 1, -1, -1):\n",
        "\n",
        "    print(numbers[i])\n",
        "\n",
        "# e)  Display numbers from -10 to -1 using for loop \n",
        "\n",
        "for i in range(-10, 0):\n",
        "\n",
        "    print(i)\n",
        "\n",
        "\n",
        "# f)   Find the factorial of a given number\n",
        "\n",
        "number = int(5)\n",
        "\n",
        "factorial = 1\n",
        "\n",
        "for i in range(1, number + 1):\n",
        "    factorial *= i\n",
        "\n",
        "print(\"The factorial of {} is {}\".format(number, factorial))\n",
        "\n",
        "# g)  Use a loop to display elements from a given list present at odd index positions \n",
        "\n",
        "numbers = [1, 2, 3, 4, 5]\n",
        "\n",
        "for i in range(0, len(numbers), 2):\n",
        "    print(numbers[i])\n",
        "    \n",
        "# h)  Calculate the cube of all numbers from 1 to a given number\n",
        "\n",
        "number = int(5)\n",
        "cubes = []\n",
        "for i in range(1, number + 1):\n",
        "    cube = i ** 3\n",
        "    cubes.append(cube)\n",
        "print(\"The cubes of the numbers from 1 to {} are {}\".format(number, cubes))\n"
      ]
    },
    {
      "cell_type": "markdown",
      "id": "bda9cac7",
      "metadata": {
        "id": "bda9cac7"
      },
      "source": [
        "## Python: User-defined Functions"
      ]
    },
    {
      "cell_type": "code",
      "execution_count": null,
      "id": "17a572c7",
      "metadata": {
        "id": "17a572c7",
        "outputId": "358b8e5b-bfed-4209-e323-ae6b57cb2da2"
      },
      "outputs": [
        {
          "name": "stdout",
          "output_type": "stream",
          "text": [
            "Unique digits in class ID: ['1', '2', '3', '4', '5', '6', '7', '8', '9', '0']\n"
          ]
        }
      ],
      "source": [
        "# a)  write a python program to create a function that will return a list of the unique digits in your class ID.\n",
        "\n",
        "def unique_digits_in_class_id(class_id):\n",
        "    \n",
        "    class_id_str = str(class_id)\n",
        "\n",
        "    unique_digits = []\n",
        "\n",
        "    for digit in class_id_str:\n",
        "\n",
        "        if digit.isdigit() and digit not in unique_digits:\n",
        "            unique_digits.append(digit)\n",
        "\n",
        "    return unique_digits\n",
        "my_class_id = 1234567890\n",
        "unique_digits = unique_digits_in_class_id(my_class_id)\n",
        "print(\"Unique digits in class ID:\", unique_digits)"
      ]
    }
  ],
  "metadata": {
    "kernelspec": {
      "display_name": "Python 3 (ipykernel)",
      "language": "python",
      "name": "python3"
    },
    "language_info": {
      "codemirror_mode": {
        "name": "ipython",
        "version": 3
      },
      "file_extension": ".py",
      "mimetype": "text/x-python",
      "name": "python",
      "nbconvert_exporter": "python",
      "pygments_lexer": "ipython3",
      "version": "3.10.9"
    },
    "colab": {
      "provenance": [],
      "include_colab_link": true
    }
  },
  "nbformat": 4,
  "nbformat_minor": 5
}